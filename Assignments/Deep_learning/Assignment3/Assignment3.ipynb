{
  "nbformat": 4,
  "nbformat_minor": 0,
  "metadata": {
    "colab": {
      "name": "Assignment3.ipynb",
      "provenance": []
    },
    "kernelspec": {
      "name": "python3",
      "display_name": "Python 3"
    },
    "accelerator": "GPU"
  },
  "cells": [
    {
      "cell_type": "code",
      "metadata": {
        "id": "SsL5AFx7FpDG",
        "colab_type": "code",
        "outputId": "c29c8d61-af08-455b-8aed-6cda557c4602",
        "colab": {
          "base_uri": "https://localhost:8080/",
          "height": 80
        }
      },
      "source": [
        "import keras\n",
        "from keras.models import load_model\n",
        "from keras.datasets import cifar10\n",
        "from keras.layers import Input, Dense, Conv2D, MaxPooling2D, UpSampling2D, BatchNormalization, Activation\n",
        "from keras.models import Model\n",
        "from keras.callbacks import EarlyStopping, ModelCheckpoint\n",
        "from keras.optimizers import Adam\n",
        "import os\n",
        "import numpy as np"
      ],
      "execution_count": 0,
      "outputs": [
        {
          "output_type": "stream",
          "text": [
            "Using TensorFlow backend.\n"
          ],
          "name": "stderr"
        },
        {
          "output_type": "display_data",
          "data": {
            "text/html": [
              "<p style=\"color: red;\">\n",
              "The default version of TensorFlow in Colab will soon switch to TensorFlow 2.x.<br>\n",
              "We recommend you <a href=\"https://www.tensorflow.org/guide/migrate\" target=\"_blank\">upgrade</a> now \n",
              "or ensure your notebook will continue to use TensorFlow 1.x via the <code>%tensorflow_version 1.x</code> magic:\n",
              "<a href=\"https://colab.research.google.com/notebooks/tensorflow_version.ipynb\" target=\"_blank\">more info</a>.</p>\n"
            ],
            "text/plain": [
              "<IPython.core.display.HTML object>"
            ]
          },
          "metadata": {
            "tags": []
          }
        }
      ]
    },
    {
      "cell_type": "code",
      "metadata": {
        "id": "dLlAwuAZDf0M",
        "colab_type": "code",
        "outputId": "a0e9e305-3e24-44b0-bb0a-636802c6d6cb",
        "colab": {
          "base_uri": "https://localhost:8080/",
          "height": 51
        }
      },
      "source": [
        "(x_train, _), (x_test, _) = cifar10.load_data()"
      ],
      "execution_count": 0,
      "outputs": [
        {
          "output_type": "stream",
          "text": [
            "Downloading data from https://www.cs.toronto.edu/~kriz/cifar-10-python.tar.gz\n",
            "170500096/170498071 [==============================] - 6s 0us/step\n"
          ],
          "name": "stdout"
        }
      ]
    },
    {
      "cell_type": "code",
      "metadata": {
        "id": "byp2REcPIIKJ",
        "colab_type": "code",
        "colab": {}
      },
      "source": [
        "x_train = x_train.astype('float32')\n",
        "x_test = x_test.astype('float32')\n",
        "x_train /= 255\n",
        "x_test /= 255"
      ],
      "execution_count": 0,
      "outputs": []
    },
    {
      "cell_type": "code",
      "metadata": {
        "id": "d5axZhzUFcUe",
        "colab_type": "code",
        "outputId": "5ec809cb-6949-4e45-e94e-2ecf12b84991",
        "colab": {
          "base_uri": "https://localhost:8080/",
          "height": 445
        }
      },
      "source": [
        "input_img = Input(shape=(32, 32, 3))\n",
        "x = Conv2D(64, (3, 3), padding='same')(input_img)\n",
        "x = BatchNormalization()(x)\n",
        "x = Activation('relu')(x)\n",
        "x = MaxPooling2D((2, 2), padding='same')(x)\n",
        "x = Conv2D(32, (3, 3), padding='same')(x)\n",
        "x = BatchNormalization()(x)\n",
        "x = Activation('relu')(x)\n",
        "x = MaxPooling2D((2, 2), padding='same')(x)\n",
        "x = Conv2D(16, (3, 3), padding='same')(x)\n",
        "x = BatchNormalization()(x)\n",
        "x = Activation('relu')(x)\n",
        "encoded = MaxPooling2D((2, 2), padding='same')(x)"
      ],
      "execution_count": 0,
      "outputs": [
        {
          "output_type": "stream",
          "text": [
            "WARNING:tensorflow:From /usr/local/lib/python3.6/dist-packages/keras/backend/tensorflow_backend.py:66: The name tf.get_default_graph is deprecated. Please use tf.compat.v1.get_default_graph instead.\n",
            "\n",
            "WARNING:tensorflow:From /usr/local/lib/python3.6/dist-packages/keras/backend/tensorflow_backend.py:541: The name tf.placeholder is deprecated. Please use tf.compat.v1.placeholder instead.\n",
            "\n",
            "WARNING:tensorflow:From /usr/local/lib/python3.6/dist-packages/keras/backend/tensorflow_backend.py:4432: The name tf.random_uniform is deprecated. Please use tf.random.uniform instead.\n",
            "\n",
            "WARNING:tensorflow:From /usr/local/lib/python3.6/dist-packages/keras/backend/tensorflow_backend.py:190: The name tf.get_default_session is deprecated. Please use tf.compat.v1.get_default_session instead.\n",
            "\n",
            "WARNING:tensorflow:From /usr/local/lib/python3.6/dist-packages/keras/backend/tensorflow_backend.py:197: The name tf.ConfigProto is deprecated. Please use tf.compat.v1.ConfigProto instead.\n",
            "\n",
            "WARNING:tensorflow:From /usr/local/lib/python3.6/dist-packages/keras/backend/tensorflow_backend.py:203: The name tf.Session is deprecated. Please use tf.compat.v1.Session instead.\n",
            "\n",
            "WARNING:tensorflow:From /usr/local/lib/python3.6/dist-packages/keras/backend/tensorflow_backend.py:207: The name tf.global_variables is deprecated. Please use tf.compat.v1.global_variables instead.\n",
            "\n",
            "WARNING:tensorflow:From /usr/local/lib/python3.6/dist-packages/keras/backend/tensorflow_backend.py:216: The name tf.is_variable_initialized is deprecated. Please use tf.compat.v1.is_variable_initialized instead.\n",
            "\n",
            "WARNING:tensorflow:From /usr/local/lib/python3.6/dist-packages/keras/backend/tensorflow_backend.py:223: The name tf.variables_initializer is deprecated. Please use tf.compat.v1.variables_initializer instead.\n",
            "\n",
            "WARNING:tensorflow:From /usr/local/lib/python3.6/dist-packages/keras/backend/tensorflow_backend.py:2041: The name tf.nn.fused_batch_norm is deprecated. Please use tf.compat.v1.nn.fused_batch_norm instead.\n",
            "\n",
            "WARNING:tensorflow:From /usr/local/lib/python3.6/dist-packages/keras/backend/tensorflow_backend.py:148: The name tf.placeholder_with_default is deprecated. Please use tf.compat.v1.placeholder_with_default instead.\n",
            "\n",
            "WARNING:tensorflow:From /usr/local/lib/python3.6/dist-packages/keras/backend/tensorflow_backend.py:4267: The name tf.nn.max_pool is deprecated. Please use tf.nn.max_pool2d instead.\n",
            "\n"
          ],
          "name": "stdout"
        }
      ]
    },
    {
      "cell_type": "code",
      "metadata": {
        "id": "MWlYDbF-FpBj",
        "colab_type": "code",
        "outputId": "9b68760a-e4be-4e02-b04c-88b4757172b0",
        "colab": {
          "base_uri": "https://localhost:8080/",
          "height": 71
        }
      },
      "source": [
        "x = Conv2D(16, (3, 3), padding='same')(encoded)\n",
        "x = BatchNormalization()(x)\n",
        "x = Activation('relu')(x)\n",
        "x = UpSampling2D((2, 2))(x)\n",
        "x = Conv2D(32, (3, 3), padding='same')(x)\n",
        "x = BatchNormalization()(x)\n",
        "x = Activation('relu')(x)\n",
        "x = UpSampling2D((2, 2))(x)\n",
        "x = Conv2D(64, (3, 3), padding='same')(x)\n",
        "x = BatchNormalization()(x)\n",
        "x = Activation('relu')(x)\n",
        "x = UpSampling2D((2, 2))(x)\n",
        "x = Conv2D(3, (3, 3), padding='same')(x)\n",
        "x = BatchNormalization()(x)\n",
        "decoded = Activation('sigmoid')(x)"
      ],
      "execution_count": 0,
      "outputs": [
        {
          "output_type": "stream",
          "text": [
            "WARNING:tensorflow:From /usr/local/lib/python3.6/dist-packages/keras/backend/tensorflow_backend.py:2239: The name tf.image.resize_nearest_neighbor is deprecated. Please use tf.compat.v1.image.resize_nearest_neighbor instead.\n",
            "\n"
          ],
          "name": "stdout"
        }
      ]
    },
    {
      "cell_type": "code",
      "metadata": {
        "id": "Lhgj7dw4Finb",
        "colab_type": "code",
        "outputId": "bd41dbe0-a5c0-4789-d270-bb94b749af2e",
        "colab": {
          "base_uri": "https://localhost:8080/",
          "height": 156
        }
      },
      "source": [
        "model = Model(input_img, decoded)\n",
        "model.compile(optimizer='adam', loss='binary_crossentropy')"
      ],
      "execution_count": 0,
      "outputs": [
        {
          "output_type": "stream",
          "text": [
            "WARNING:tensorflow:From /usr/local/lib/python3.6/dist-packages/keras/optimizers.py:793: The name tf.train.Optimizer is deprecated. Please use tf.compat.v1.train.Optimizer instead.\n",
            "\n",
            "WARNING:tensorflow:From /usr/local/lib/python3.6/dist-packages/keras/backend/tensorflow_backend.py:3657: The name tf.log is deprecated. Please use tf.math.log instead.\n",
            "\n",
            "WARNING:tensorflow:From /usr/local/lib/python3.6/dist-packages/tensorflow_core/python/ops/nn_impl.py:183: where (from tensorflow.python.ops.array_ops) is deprecated and will be removed in a future version.\n",
            "Instructions for updating:\n",
            "Use tf.where in 2.0, which has the same broadcast rule as np.where\n"
          ],
          "name": "stdout"
        }
      ]
    },
    {
      "cell_type": "code",
      "metadata": {
        "id": "pFOCbpoFGzR2",
        "colab_type": "code",
        "outputId": "0c6a4d5c-b651-4bd4-b4e3-f3a6f4311554",
        "colab": {
          "base_uri": "https://localhost:8080/",
          "height": 1000
        }
      },
      "source": [
        "model.fit(x_train, x_train,batch_size=1000,epochs=50,shuffle=True,validation_data=(x_test, x_test))"
      ],
      "execution_count": 0,
      "outputs": [
        {
          "output_type": "stream",
          "text": [
            "WARNING:tensorflow:From /usr/local/lib/python3.6/dist-packages/keras/backend/tensorflow_backend.py:1033: The name tf.assign_add is deprecated. Please use tf.compat.v1.assign_add instead.\n",
            "\n",
            "WARNING:tensorflow:From /usr/local/lib/python3.6/dist-packages/keras/backend/tensorflow_backend.py:1020: The name tf.assign is deprecated. Please use tf.compat.v1.assign instead.\n",
            "\n",
            "Train on 50000 samples, validate on 10000 samples\n",
            "Epoch 1/50\n",
            "50000/50000 [==============================] - 13s 265us/step - loss: 0.6237 - val_loss: 0.6457\n",
            "Epoch 2/50\n",
            "50000/50000 [==============================] - 5s 105us/step - loss: 0.5954 - val_loss: 0.5973\n",
            "Epoch 3/50\n",
            "50000/50000 [==============================] - 5s 106us/step - loss: 0.5894 - val_loss: 0.5899\n",
            "Epoch 4/50\n",
            "50000/50000 [==============================] - 5s 106us/step - loss: 0.5860 - val_loss: 0.5864\n",
            "Epoch 5/50\n",
            "50000/50000 [==============================] - 5s 106us/step - loss: 0.5836 - val_loss: 0.5849\n",
            "Epoch 6/50\n",
            "50000/50000 [==============================] - 5s 105us/step - loss: 0.5817 - val_loss: 0.5842\n",
            "Epoch 7/50\n",
            "50000/50000 [==============================] - 5s 105us/step - loss: 0.5801 - val_loss: 0.5833\n",
            "Epoch 8/50\n",
            "50000/50000 [==============================] - 5s 105us/step - loss: 0.5789 - val_loss: 0.5831\n",
            "Epoch 9/50\n",
            "50000/50000 [==============================] - 5s 105us/step - loss: 0.5778 - val_loss: 0.5817\n",
            "Epoch 10/50\n",
            "50000/50000 [==============================] - 5s 105us/step - loss: 0.5769 - val_loss: 0.5806\n",
            "Epoch 11/50\n",
            "50000/50000 [==============================] - 5s 105us/step - loss: 0.5761 - val_loss: 0.5792\n",
            "Epoch 12/50\n",
            "50000/50000 [==============================] - 5s 105us/step - loss: 0.5754 - val_loss: 0.5778\n",
            "Epoch 13/50\n",
            "50000/50000 [==============================] - 5s 104us/step - loss: 0.5748 - val_loss: 0.5772\n",
            "Epoch 14/50\n",
            "50000/50000 [==============================] - 5s 104us/step - loss: 0.5742 - val_loss: 0.5765\n",
            "Epoch 15/50\n",
            "50000/50000 [==============================] - 5s 105us/step - loss: 0.5736 - val_loss: 0.5751\n",
            "Epoch 16/50\n",
            "50000/50000 [==============================] - 5s 105us/step - loss: 0.5731 - val_loss: 0.5750\n",
            "Epoch 17/50\n",
            "50000/50000 [==============================] - 5s 104us/step - loss: 0.5726 - val_loss: 0.5739\n",
            "Epoch 18/50\n",
            "50000/50000 [==============================] - 5s 104us/step - loss: 0.5721 - val_loss: 0.5734\n",
            "Epoch 19/50\n",
            "50000/50000 [==============================] - 5s 103us/step - loss: 0.5717 - val_loss: 0.5731\n",
            "Epoch 20/50\n",
            "50000/50000 [==============================] - 5s 104us/step - loss: 0.5713 - val_loss: 0.5726\n",
            "Epoch 21/50\n",
            "50000/50000 [==============================] - 5s 105us/step - loss: 0.5709 - val_loss: 0.5733\n",
            "Epoch 22/50\n",
            "50000/50000 [==============================] - 5s 104us/step - loss: 0.5706 - val_loss: 0.5720\n",
            "Epoch 23/50\n",
            "50000/50000 [==============================] - 5s 104us/step - loss: 0.5703 - val_loss: 0.5722\n",
            "Epoch 24/50\n",
            "50000/50000 [==============================] - 5s 105us/step - loss: 0.5699 - val_loss: 0.5709\n",
            "Epoch 25/50\n",
            "50000/50000 [==============================] - 5s 104us/step - loss: 0.5696 - val_loss: 0.5713\n",
            "Epoch 26/50\n",
            "50000/50000 [==============================] - 5s 103us/step - loss: 0.5693 - val_loss: 0.5704\n",
            "Epoch 27/50\n",
            "50000/50000 [==============================] - 5s 105us/step - loss: 0.5690 - val_loss: 0.5703\n",
            "Epoch 28/50\n",
            "50000/50000 [==============================] - 5s 106us/step - loss: 0.5688 - val_loss: 0.5698\n",
            "Epoch 29/50\n",
            "50000/50000 [==============================] - 5s 105us/step - loss: 0.5685 - val_loss: 0.5701\n",
            "Epoch 30/50\n",
            "50000/50000 [==============================] - 5s 103us/step - loss: 0.5683 - val_loss: 0.5698\n",
            "Epoch 31/50\n",
            "50000/50000 [==============================] - 5s 104us/step - loss: 0.5681 - val_loss: 0.5695\n",
            "Epoch 32/50\n",
            "50000/50000 [==============================] - 5s 103us/step - loss: 0.5679 - val_loss: 0.5693\n",
            "Epoch 33/50\n",
            "50000/50000 [==============================] - 5s 103us/step - loss: 0.5677 - val_loss: 0.5692\n",
            "Epoch 34/50\n",
            "50000/50000 [==============================] - 5s 103us/step - loss: 0.5675 - val_loss: 0.5687\n",
            "Epoch 35/50\n",
            "50000/50000 [==============================] - 5s 104us/step - loss: 0.5673 - val_loss: 0.5690\n",
            "Epoch 36/50\n",
            "50000/50000 [==============================] - 5s 103us/step - loss: 0.5672 - val_loss: 0.5686\n",
            "Epoch 37/50\n",
            "50000/50000 [==============================] - 5s 102us/step - loss: 0.5670 - val_loss: 0.5683\n",
            "Epoch 38/50\n",
            "50000/50000 [==============================] - 5s 105us/step - loss: 0.5668 - val_loss: 0.5690\n",
            "Epoch 39/50\n",
            "50000/50000 [==============================] - 5s 105us/step - loss: 0.5666 - val_loss: 0.5679\n",
            "Epoch 40/50\n",
            "50000/50000 [==============================] - 5s 104us/step - loss: 0.5665 - val_loss: 0.5678\n",
            "Epoch 41/50\n",
            "50000/50000 [==============================] - 5s 103us/step - loss: 0.5664 - val_loss: 0.5677\n",
            "Epoch 42/50\n",
            "50000/50000 [==============================] - 5s 103us/step - loss: 0.5662 - val_loss: 0.5676\n",
            "Epoch 43/50\n",
            "50000/50000 [==============================] - 5s 103us/step - loss: 0.5661 - val_loss: 0.5694\n",
            "Epoch 44/50\n",
            "50000/50000 [==============================] - 5s 103us/step - loss: 0.5660 - val_loss: 0.5676\n",
            "Epoch 45/50\n",
            "50000/50000 [==============================] - 5s 102us/step - loss: 0.5659 - val_loss: 0.5682\n",
            "Epoch 46/50\n",
            "50000/50000 [==============================] - 5s 104us/step - loss: 0.5657 - val_loss: 0.5675\n",
            "Epoch 47/50\n",
            "50000/50000 [==============================] - 5s 103us/step - loss: 0.5656 - val_loss: 0.5670\n",
            "Epoch 48/50\n",
            "50000/50000 [==============================] - 5s 103us/step - loss: 0.5655 - val_loss: 0.5671\n",
            "Epoch 49/50\n",
            "50000/50000 [==============================] - 5s 102us/step - loss: 0.5654 - val_loss: 0.5674\n",
            "Epoch 50/50\n",
            "50000/50000 [==============================] - 5s 104us/step - loss: 0.5653 - val_loss: 0.5687\n"
          ],
          "name": "stdout"
        },
        {
          "output_type": "execute_result",
          "data": {
            "text/plain": [
              "<keras.callbacks.History at 0x7f924f659f98>"
            ]
          },
          "metadata": {
            "tags": []
          },
          "execution_count": 7
        }
      ]
    }
  ]
}