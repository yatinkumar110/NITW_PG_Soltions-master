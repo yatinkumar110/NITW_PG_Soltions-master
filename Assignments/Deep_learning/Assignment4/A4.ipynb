{
  "nbformat": 4,
  "nbformat_minor": 0,
  "metadata": {
    "colab": {
      "name": "A4.ipynb",
      "provenance": []
    },
    "kernelspec": {
      "name": "python3",
      "display_name": "Python 3"
    },
    "accelerator": "GPU"
  },
  "cells": [
    {
      "cell_type": "code",
      "metadata": {
        "id": "QVQGFTa8CczZ",
        "colab_type": "code",
        "colab": {}
      },
      "source": [
        "import numpy as np\n",
        "from keras.utils import np_utils\n",
        "import keras.models as models\n",
        "from keras.layers import Input,merge\n",
        "from keras.layers.core import Reshape,Dense,Dropout,Activation,Flatten\n",
        "from keras.layers.advanced_activations import LeakyReLU\n",
        "from keras.activations import *\n",
        "from keras.layers.wrappers import TimeDistributed\n",
        "from keras.layers.noise import GaussianNoise\n",
        "from keras.layers.convolutional import Convolution2D, MaxPooling2D, ZeroPadding2D, UpSampling2D\n",
        "from keras.layers.recurrent import LSTM\n",
        "from keras.regularizers import *\n",
        "from keras.layers.normalization import *\n",
        "from keras.optimizers import *\n",
        "from keras.datasets import mnist\n",
        "import matplotlib.pyplot as plt\n",
        "import seaborn as sns\n",
        "from keras.models import Model\n",
        "import tensorflow as tf"
      ],
      "execution_count": 0,
      "outputs": []
    },
    {
      "cell_type": "code",
      "metadata": {
        "id": "uUf6lkDzI9_r",
        "colab_type": "code",
        "outputId": "da0f3ffa-8eea-47dd-ac1d-8baf222fed96",
        "colab": {
          "base_uri": "https://localhost:8080/",
          "height": 153
        }
      },
      "source": [
        "(train_imgs, train_lab), (_, _) = tf.keras.datasets.fashion_mnist.load_data()\n",
        "\n",
        "train_imgs = train_imgs.reshape(train_imgs.shape[0], 28, 28, 1).astype('float32')\n",
        "train_imgs = (train_imgs - 127.5) / 127.5 # Normalize the images in between -1 and 1\n",
        "\n",
        "BUFFER_SIZE = 60000\n",
        "BATCH_SIZE = 256"
      ],
      "execution_count": 0,
      "outputs": [
        {
          "output_type": "stream",
          "text": [
            "Downloading data from https://storage.googleapis.com/tensorflow/tf-keras-datasets/train-labels-idx1-ubyte.gz\n",
            "32768/29515 [=================================] - 0s 0us/step\n",
            "Downloading data from https://storage.googleapis.com/tensorflow/tf-keras-datasets/train-images-idx3-ubyte.gz\n",
            "26427392/26421880 [==============================] - 0s 0us/step\n",
            "Downloading data from https://storage.googleapis.com/tensorflow/tf-keras-datasets/t10k-labels-idx1-ubyte.gz\n",
            "8192/5148 [===============================================] - 0s 0us/step\n",
            "Downloading data from https://storage.googleapis.com/tensorflow/tf-keras-datasets/t10k-images-idx3-ubyte.gz\n",
            "4423680/4422102 [==============================] - 0s 0us/step\n"
          ],
          "name": "stdout"
        }
      ]
    },
    {
      "cell_type": "code",
      "metadata": {
        "id": "8C_HhLk3ISn7",
        "colab_type": "code",
        "colab": {}
      },
      "source": [
        "shp = (1,28,28)\n",
        "dropout_rate = 0.25\n",
        "opt = Adam(lr=1e-4)\n",
        "dopt = Adam(lr=1e-3)"
      ],
      "execution_count": 0,
      "outputs": []
    },
    {
      "cell_type": "code",
      "metadata": {
        "id": "p2bQ0u0iF9gC",
        "colab_type": "code",
        "outputId": "66caf0d9-01a6-4164-b96b-a2b2272084c7",
        "colab": {
          "base_uri": "https://localhost:8080/",
          "height": 904
        }
      },
      "source": [
        "nch = 200\n",
        "g_input = Input(shape=[100])\n",
        "H = Dense(nch*14*14, init='glorot_normal')(g_input)\n",
        "H = BatchNormalization()(H)\n",
        "H = Activation('relu')(H)\n",
        "H = Reshape( [nch, 14, 14] )(H)\n",
        "H = UpSampling2D(size=(2, 2))(H)\n",
        "H = Convolution2D(int(nch/2), 3, 3, border_mode='same', init='glorot_uniform')(H)\n",
        "H = BatchNormalization()(H)\n",
        "H = Activation('relu')(H)\n",
        "H = Convolution2D(int(nch/4), 3, 3, border_mode='same', init='glorot_uniform')(H)\n",
        "H = BatchNormalization()(H)\n",
        "H = Activation('relu')(H)\n",
        "H = Convolution2D(1, 1, 1, border_mode='same', init='glorot_uniform')(H)\n",
        "g_V = Activation('sigmoid')(H)\n",
        "generator = Model(g_input,g_V)\n",
        "generator.compile(loss='binary_crossentropy', optimizer=opt)\n",
        "generator.summary()"
      ],
      "execution_count": 0,
      "outputs": [
        {
          "output_type": "stream",
          "text": [
            "/usr/local/lib/python3.6/dist-packages/ipykernel_launcher.py:4: UserWarning: Update your `Dense` call to the Keras 2 API: `Dense(39200, kernel_initializer=\"glorot_normal\")`\n",
            "  after removing the cwd from sys.path.\n",
            "/usr/local/lib/python3.6/dist-packages/ipykernel_launcher.py:9: UserWarning: Update your `Conv2D` call to the Keras 2 API: `Conv2D(100, (3, 3), padding=\"same\", kernel_initializer=\"glorot_uniform\")`\n",
            "  if __name__ == '__main__':\n",
            "/usr/local/lib/python3.6/dist-packages/ipykernel_launcher.py:12: UserWarning: Update your `Conv2D` call to the Keras 2 API: `Conv2D(50, (3, 3), padding=\"same\", kernel_initializer=\"glorot_uniform\")`\n",
            "  if sys.path[0] == '':\n"
          ],
          "name": "stderr"
        },
        {
          "output_type": "stream",
          "text": [
            "WARNING:tensorflow:From /usr/local/lib/python3.6/dist-packages/keras/optimizers.py:793: The name tf.train.Optimizer is deprecated. Please use tf.compat.v1.train.Optimizer instead.\n",
            "\n",
            "WARNING:tensorflow:From /usr/local/lib/python3.6/dist-packages/keras/backend/tensorflow_backend.py:3657: The name tf.log is deprecated. Please use tf.math.log instead.\n",
            "\n",
            "WARNING:tensorflow:From /usr/local/lib/python3.6/dist-packages/tensorflow_core/python/ops/nn_impl.py:183: where (from tensorflow.python.ops.array_ops) is deprecated and will be removed in a future version.\n",
            "Instructions for updating:\n",
            "Use tf.where in 2.0, which has the same broadcast rule as np.where\n",
            "Model: \"model_2\"\n",
            "_________________________________________________________________\n",
            "Layer (type)                 Output Shape              Param #   \n",
            "=================================================================\n",
            "input_9 (InputLayer)         (None, 100)               0         \n",
            "_________________________________________________________________\n",
            "dense_9 (Dense)              (None, 39200)             3959200   \n",
            "_________________________________________________________________\n",
            "batch_normalization_8 (Batch (None, 39200)             156800    \n",
            "_________________________________________________________________\n",
            "activation_8 (Activation)    (None, 39200)             0         \n",
            "_________________________________________________________________\n",
            "reshape_4 (Reshape)          (None, 200, 14, 14)       0         \n",
            "_________________________________________________________________\n",
            "up_sampling2d_3 (UpSampling2 (None, 400, 28, 14)       0         \n",
            "_________________________________________________________________\n",
            "conv2d_5 (Conv2D)            (None, 400, 28, 100)      12700     \n",
            "_________________________________________________________________\n",
            "batch_normalization_9 (Batch (None, 400, 28, 100)      400       \n",
            "_________________________________________________________________\n",
            "activation_9 (Activation)    (None, 400, 28, 100)      0         \n",
            "_________________________________________________________________\n",
            "conv2d_6 (Conv2D)            (None, 400, 28, 50)       45050     \n",
            "_________________________________________________________________\n",
            "batch_normalization_10 (Batc (None, 400, 28, 50)       200       \n",
            "_________________________________________________________________\n",
            "activation_10 (Activation)   (None, 400, 28, 50)       0         \n",
            "_________________________________________________________________\n",
            "conv2d_7 (Conv2D)            (None, 400, 28, 1)        51        \n",
            "_________________________________________________________________\n",
            "activation_11 (Activation)   (None, 400, 28, 1)        0         \n",
            "=================================================================\n",
            "Total params: 4,174,401\n",
            "Trainable params: 4,095,701\n",
            "Non-trainable params: 78,700\n",
            "_________________________________________________________________\n"
          ],
          "name": "stdout"
        },
        {
          "output_type": "stream",
          "text": [
            "/usr/local/lib/python3.6/dist-packages/ipykernel_launcher.py:15: UserWarning: Update your `Conv2D` call to the Keras 2 API: `Conv2D(1, (1, 1), padding=\"same\", kernel_initializer=\"glorot_uniform\")`\n",
            "  from ipykernel import kernelapp as app\n"
          ],
          "name": "stderr"
        }
      ]
    },
    {
      "cell_type": "code",
      "metadata": {
        "id": "7BTxnMGOGIId",
        "colab_type": "code",
        "outputId": "5831a986-d2e2-419c-bbd5-dfc576216626",
        "colab": {
          "base_uri": "https://localhost:8080/",
          "height": 700
        }
      },
      "source": [
        "d_input = Input(shape=shp)\n",
        "H = Convolution2D(256, 5, 5, subsample=(2, 2), border_mode = 'same', activation='relu')(d_input)\n",
        "H = LeakyReLU(0.2)(H)\n",
        "H = Dropout(dropout_rate)(H)\n",
        "H = Convolution2D(512, 5, 5, subsample=(2, 2), border_mode = 'same', activation='relu')(H)\n",
        "H = LeakyReLU(0.2)(H)\n",
        "H = Dropout(dropout_rate)(H)\n",
        "H = Flatten()(H)\n",
        "H = Dense(256)(H)\n",
        "H = LeakyReLU(0.2)(H)\n",
        "H = Dropout(dropout_rate)(H)\n",
        "d_V = Dense(2,activation='softmax')(H)\n",
        "discriminator = Model(d_input,d_V)\n",
        "discriminator.compile(loss='categorical_crossentropy', optimizer=dopt)\n",
        "discriminator.summary()"
      ],
      "execution_count": 0,
      "outputs": [
        {
          "output_type": "stream",
          "text": [
            "WARNING:tensorflow:From /usr/local/lib/python3.6/dist-packages/keras/backend/tensorflow_backend.py:3733: calling dropout (from tensorflow.python.ops.nn_ops) with keep_prob is deprecated and will be removed in a future version.\n",
            "Instructions for updating:\n",
            "Please use `rate` instead of `keep_prob`. Rate should be set to `rate = 1 - keep_prob`.\n",
            "Model: \"model_3\"\n",
            "_________________________________________________________________\n",
            "Layer (type)                 Output Shape              Param #   \n",
            "=================================================================\n",
            "input_11 (InputLayer)        (None, 1, 28, 28)         0         \n",
            "_________________________________________________________________\n",
            "conv2d_9 (Conv2D)            (None, 1, 14, 256)        179456    \n",
            "_________________________________________________________________\n",
            "leaky_re_lu_1 (LeakyReLU)    (None, 1, 14, 256)        0         \n",
            "_________________________________________________________________\n",
            "dropout_1 (Dropout)          (None, 1, 14, 256)        0         \n",
            "_________________________________________________________________\n",
            "conv2d_10 (Conv2D)           (None, 1, 7, 512)         3277312   \n",
            "_________________________________________________________________\n",
            "leaky_re_lu_2 (LeakyReLU)    (None, 1, 7, 512)         0         \n",
            "_________________________________________________________________\n",
            "dropout_2 (Dropout)          (None, 1, 7, 512)         0         \n",
            "_________________________________________________________________\n",
            "flatten_1 (Flatten)          (None, 3584)              0         \n",
            "_________________________________________________________________\n",
            "dense_10 (Dense)             (None, 256)               917760    \n",
            "_________________________________________________________________\n",
            "leaky_re_lu_3 (LeakyReLU)    (None, 256)               0         \n",
            "_________________________________________________________________\n",
            "dropout_3 (Dropout)          (None, 256)               0         \n",
            "_________________________________________________________________\n",
            "dense_11 (Dense)             (None, 2)                 514       \n",
            "=================================================================\n",
            "Total params: 4,375,042\n",
            "Trainable params: 4,375,042\n",
            "Non-trainable params: 0\n",
            "_________________________________________________________________\n"
          ],
          "name": "stdout"
        },
        {
          "output_type": "stream",
          "text": [
            "/usr/local/lib/python3.6/dist-packages/ipykernel_launcher.py:2: UserWarning: Update your `Conv2D` call to the Keras 2 API: `Conv2D(256, (5, 5), activation=\"relu\", strides=(2, 2), padding=\"same\")`\n",
            "  \n",
            "/usr/local/lib/python3.6/dist-packages/ipykernel_launcher.py:5: UserWarning: Update your `Conv2D` call to the Keras 2 API: `Conv2D(512, (5, 5), activation=\"relu\", strides=(2, 2), padding=\"same\")`\n",
            "  \"\"\"\n"
          ],
          "name": "stderr"
        }
      ]
    }
  ]
}